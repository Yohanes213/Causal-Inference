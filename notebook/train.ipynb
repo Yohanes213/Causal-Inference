{
  "nbformat": 4,
  "nbformat_minor": 0,
  "metadata": {
    "colab": {
      "provenance": [],
      "gpuType": "T4"
    },
    "kernelspec": {
      "name": "python3",
      "display_name": "Python 3"
    },
    "language_info": {
      "name": "python"
    },
    "accelerator": "GPU"
  },
  "cells": [
    {
      "cell_type": "code",
      "execution_count": null,
      "metadata": {
        "id": "AqY77bS9OYTt"
      },
      "outputs": [],
      "source": [
        "import pandas as pd"
      ]
    },
    {
      "cell_type": "code",
      "source": [
        "import pandas as pd\n",
        "from sklearn.preprocessing import LabelEncoder\n",
        "from sklearn.preprocessing import KBinsDiscretizer"
      ],
      "metadata": {
        "id": "CdKh74MyOoqR"
      },
      "execution_count": null,
      "outputs": []
    },
    {
      "cell_type": "code",
      "source": [
        "df = pd.read_csv('../data/cleaned_df.csv')"
      ],
      "metadata": {
        "id": "FmzabRMWO2jh"
      },
      "execution_count": null,
      "outputs": []
    },
    {
      "cell_type": "code",
      "source": [
        "df.rename(columns={\n",
        "    'Distance (Trip to Destination)': 'Distance_Trip_to_Destination',\n",
        "    'Distance From Trip Origin': 'Distance_From_Trip_Origin',\n",
        "    'lat': 'latitude',\n",
        "    'lng': 'longitude'\n",
        "}, inplace=True)"
      ],
      "metadata": {
        "id": "DCRSMw_fO4GZ"
      },
      "execution_count": null,
      "outputs": []
    },
    {
      "cell_type": "code",
      "source": [
        "le = LabelEncoder()\n",
        "\n",
        "non_numeric_columns = list(df.select_dtypes(exclude = 'number').columns)\n",
        "\n",
        "for col in non_numeric_columns:\n",
        "  df[col] = le.fit_transform(df[col])"
      ],
      "metadata": {
        "id": "Lp4hBptxO6QY"
      },
      "execution_count": null,
      "outputs": []
    },
    {
      "cell_type": "code",
      "source": [
        "df['driver_action'] = df['driver_action'].apply(lambda x: 0 if x == 1 else 1)"
      ],
      "metadata": {
        "id": "2Ts-HjQ3O8o3"
      },
      "execution_count": null,
      "outputs": []
    },
    {
      "cell_type": "code",
      "source": [
        "# Discretize the continuous variables\n",
        "discretizer_distance_origin = KBinsDiscretizer(n_bins=10, encode='ordinal', strategy='uniform')\n",
        "discretizer_distance_destination = KBinsDiscretizer(n_bins=10, encode='ordinal', strategy='uniform')\n",
        "discretizer_latitude = KBinsDiscretizer(n_bins=10, encode='ordinal', strategy='uniform')\n",
        "discretizer_longitude = KBinsDiscretizer(n_bins=10, encode='ordinal', strategy='uniform')\n",
        "\n",
        "\n",
        "df['Distance_From_Trip_Origin'] = discretizer_distance_origin.fit_transform(df[['Distance_From_Trip_Origin']]).astype(int)\n",
        "df['Distance_Trip_to_Destination'] = discretizer_distance_destination.fit_transform(df[['Distance_Trip_to_Destination']]).astype(int)\n",
        "df['latitude'] = discretizer_latitude.fit_transform(df[['latitude']]).astype(int)\n",
        "df['longitude'] = discretizer_longitude.fit_transform(df[['longitude']]).astype(int)\n"
      ],
      "metadata": {
        "id": "ntufRbeXO-5p"
      },
      "execution_count": null,
      "outputs": []
    },
    {
      "cell_type": "code",
      "source": [
        "cols = ['is_weekend', 'driver_action', 'latitude', 'longitude', 'Distance_From_Trip_Origin', 'Distance_Trip_to_Destination']"
      ],
      "metadata": {
        "id": "czRMo5eTPCN4"
      },
      "execution_count": null,
      "outputs": []
    },
    {
      "cell_type": "code",
      "source": [
        "from sklearn.model_selection import train_test_split\n",
        "treatment = 'driver_action'\n",
        "covariates = ['is_weekend', 'latitude', 'longitude', 'Distance_From_Trip_Origin', 'Distance_Trip_to_Destination']\n",
        "\n",
        "# Split data into train and test sets\n",
        "train, test = train_test_split(df[cols], test_size=0.2, random_state=42)"
      ],
      "metadata": {
        "id": "ga5hXdQkPFme"
      },
      "execution_count": null,
      "outputs": []
    },
    {
      "cell_type": "code",
      "source": [
        "train_data, test_data = train_test_split(df, test_size=0.2, random_state=42)"
      ],
      "metadata": {
        "id": "cxltGfq0PHzE"
      },
      "execution_count": null,
      "outputs": []
    },
    {
      "cell_type": "code",
      "source": [
        "from sklearn.ensemble import RandomForestClassifier\n",
        "from xgboost import XGBClassifier\n",
        "\n",
        "# Train ML models using all variables\n",
        "X_train = train_data.drop(columns=['driver_action'])\n",
        "y_train = train_data['driver_action']\n",
        "\n",
        "X_holdout = test_data.drop(columns=['driver_action'])\n",
        "y_holdout = test_data['driver_action']\n",
        "\n",
        "rf_all = RandomForestClassifier(random_state=42)\n",
        "rf_all.fit(X_train, y_train)\n",
        "\n",
        "xgb_all = XGBClassifier(random_state=42)\n",
        "xgb_all.fit(X_train, y_train)\n",
        "\n",
        "# Train ML models using only the variables selected by the graph\n",
        "X_train_selected = train.drop('driver_action', axis=1)\n",
        "y_train_selected = train['driver_action']\n",
        "\n",
        "X_holdout_selected = test.drop('driver_action', axis=1)\n",
        "y_holdout_selected = test['driver_action']\n",
        "\n",
        "rf_selected = RandomForestClassifier(random_state=42)\n",
        "rf_selected.fit(X_train_selected, y_train_selected)\n",
        "\n",
        "xgb_selected = XGBClassifier(random_state=42)\n",
        "xgb_selected.fit(X_train_selected, y_train_selected)"
      ],
      "metadata": {
        "colab": {
          "base_uri": "https://localhost:8080/",
          "height": 248
        },
        "id": "aLMJI2N-PT1P",
        "outputId": "e2240b5c-fb63-48a3-dd5c-51a58acde0cf"
      },
      "execution_count": null,
      "outputs": [
        {
          "output_type": "execute_result",
          "data": {
            "text/plain": [
              "XGBClassifier(base_score=None, booster=None, callbacks=None,\n",
              "              colsample_bylevel=None, colsample_bynode=None,\n",
              "              colsample_bytree=None, device=None, early_stopping_rounds=None,\n",
              "              enable_categorical=False, eval_metric=None, feature_types=None,\n",
              "              gamma=None, grow_policy=None, importance_type=None,\n",
              "              interaction_constraints=None, learning_rate=None, max_bin=None,\n",
              "              max_cat_threshold=None, max_cat_to_onehot=None,\n",
              "              max_delta_step=None, max_depth=None, max_leaves=None,\n",
              "              min_child_weight=None, missing=nan, monotone_constraints=None,\n",
              "              multi_strategy=None, n_estimators=None, n_jobs=None,\n",
              "              num_parallel_tree=None, random_state=42, ...)"
            ],
            "text/html": [
              "<style>#sk-container-id-2 {color: black;background-color: white;}#sk-container-id-2 pre{padding: 0;}#sk-container-id-2 div.sk-toggleable {background-color: white;}#sk-container-id-2 label.sk-toggleable__label {cursor: pointer;display: block;width: 100%;margin-bottom: 0;padding: 0.3em;box-sizing: border-box;text-align: center;}#sk-container-id-2 label.sk-toggleable__label-arrow:before {content: \"▸\";float: left;margin-right: 0.25em;color: #696969;}#sk-container-id-2 label.sk-toggleable__label-arrow:hover:before {color: black;}#sk-container-id-2 div.sk-estimator:hover label.sk-toggleable__label-arrow:before {color: black;}#sk-container-id-2 div.sk-toggleable__content {max-height: 0;max-width: 0;overflow: hidden;text-align: left;background-color: #f0f8ff;}#sk-container-id-2 div.sk-toggleable__content pre {margin: 0.2em;color: black;border-radius: 0.25em;background-color: #f0f8ff;}#sk-container-id-2 input.sk-toggleable__control:checked~div.sk-toggleable__content {max-height: 200px;max-width: 100%;overflow: auto;}#sk-container-id-2 input.sk-toggleable__control:checked~label.sk-toggleable__label-arrow:before {content: \"▾\";}#sk-container-id-2 div.sk-estimator input.sk-toggleable__control:checked~label.sk-toggleable__label {background-color: #d4ebff;}#sk-container-id-2 div.sk-label input.sk-toggleable__control:checked~label.sk-toggleable__label {background-color: #d4ebff;}#sk-container-id-2 input.sk-hidden--visually {border: 0;clip: rect(1px 1px 1px 1px);clip: rect(1px, 1px, 1px, 1px);height: 1px;margin: -1px;overflow: hidden;padding: 0;position: absolute;width: 1px;}#sk-container-id-2 div.sk-estimator {font-family: monospace;background-color: #f0f8ff;border: 1px dotted black;border-radius: 0.25em;box-sizing: border-box;margin-bottom: 0.5em;}#sk-container-id-2 div.sk-estimator:hover {background-color: #d4ebff;}#sk-container-id-2 div.sk-parallel-item::after {content: \"\";width: 100%;border-bottom: 1px solid gray;flex-grow: 1;}#sk-container-id-2 div.sk-label:hover label.sk-toggleable__label {background-color: #d4ebff;}#sk-container-id-2 div.sk-serial::before {content: \"\";position: absolute;border-left: 1px solid gray;box-sizing: border-box;top: 0;bottom: 0;left: 50%;z-index: 0;}#sk-container-id-2 div.sk-serial {display: flex;flex-direction: column;align-items: center;background-color: white;padding-right: 0.2em;padding-left: 0.2em;position: relative;}#sk-container-id-2 div.sk-item {position: relative;z-index: 1;}#sk-container-id-2 div.sk-parallel {display: flex;align-items: stretch;justify-content: center;background-color: white;position: relative;}#sk-container-id-2 div.sk-item::before, #sk-container-id-2 div.sk-parallel-item::before {content: \"\";position: absolute;border-left: 1px solid gray;box-sizing: border-box;top: 0;bottom: 0;left: 50%;z-index: -1;}#sk-container-id-2 div.sk-parallel-item {display: flex;flex-direction: column;z-index: 1;position: relative;background-color: white;}#sk-container-id-2 div.sk-parallel-item:first-child::after {align-self: flex-end;width: 50%;}#sk-container-id-2 div.sk-parallel-item:last-child::after {align-self: flex-start;width: 50%;}#sk-container-id-2 div.sk-parallel-item:only-child::after {width: 0;}#sk-container-id-2 div.sk-dashed-wrapped {border: 1px dashed gray;margin: 0 0.4em 0.5em 0.4em;box-sizing: border-box;padding-bottom: 0.4em;background-color: white;}#sk-container-id-2 div.sk-label label {font-family: monospace;font-weight: bold;display: inline-block;line-height: 1.2em;}#sk-container-id-2 div.sk-label-container {text-align: center;}#sk-container-id-2 div.sk-container {/* jupyter's `normalize.less` sets `[hidden] { display: none; }` but bootstrap.min.css set `[hidden] { display: none !important; }` so we also need the `!important` here to be able to override the default hidden behavior on the sphinx rendered scikit-learn.org. See: https://github.com/scikit-learn/scikit-learn/issues/21755 */display: inline-block !important;position: relative;}#sk-container-id-2 div.sk-text-repr-fallback {display: none;}</style><div id=\"sk-container-id-2\" class=\"sk-top-container\"><div class=\"sk-text-repr-fallback\"><pre>XGBClassifier(base_score=None, booster=None, callbacks=None,\n",
              "              colsample_bylevel=None, colsample_bynode=None,\n",
              "              colsample_bytree=None, device=None, early_stopping_rounds=None,\n",
              "              enable_categorical=False, eval_metric=None, feature_types=None,\n",
              "              gamma=None, grow_policy=None, importance_type=None,\n",
              "              interaction_constraints=None, learning_rate=None, max_bin=None,\n",
              "              max_cat_threshold=None, max_cat_to_onehot=None,\n",
              "              max_delta_step=None, max_depth=None, max_leaves=None,\n",
              "              min_child_weight=None, missing=nan, monotone_constraints=None,\n",
              "              multi_strategy=None, n_estimators=None, n_jobs=None,\n",
              "              num_parallel_tree=None, random_state=42, ...)</pre><b>In a Jupyter environment, please rerun this cell to show the HTML representation or trust the notebook. <br />On GitHub, the HTML representation is unable to render, please try loading this page with nbviewer.org.</b></div><div class=\"sk-container\" hidden><div class=\"sk-item\"><div class=\"sk-estimator sk-toggleable\"><input class=\"sk-toggleable__control sk-hidden--visually\" id=\"sk-estimator-id-2\" type=\"checkbox\" checked><label for=\"sk-estimator-id-2\" class=\"sk-toggleable__label sk-toggleable__label-arrow\">XGBClassifier</label><div class=\"sk-toggleable__content\"><pre>XGBClassifier(base_score=None, booster=None, callbacks=None,\n",
              "              colsample_bylevel=None, colsample_bynode=None,\n",
              "              colsample_bytree=None, device=None, early_stopping_rounds=None,\n",
              "              enable_categorical=False, eval_metric=None, feature_types=None,\n",
              "              gamma=None, grow_policy=None, importance_type=None,\n",
              "              interaction_constraints=None, learning_rate=None, max_bin=None,\n",
              "              max_cat_threshold=None, max_cat_to_onehot=None,\n",
              "              max_delta_step=None, max_depth=None, max_leaves=None,\n",
              "              min_child_weight=None, missing=nan, monotone_constraints=None,\n",
              "              multi_strategy=None, n_estimators=None, n_jobs=None,\n",
              "              num_parallel_tree=None, random_state=42, ...)</pre></div></div></div></div></div>"
            ]
          },
          "metadata": {},
          "execution_count": 17
        }
      ]
    },
    {
      "cell_type": "code",
      "source": [
        "from sklearn.metrics import accuracy_score, classification_report\n",
        "def evaluate_model(model, X_train, y_train, X_holdout, y_holdout):\n",
        "    train_predictions = model.predict(X_train)\n",
        "    holdout_predictions = model.predict(X_holdout)\n",
        "\n",
        "    train_accuracy = accuracy_score(y_train, train_predictions)\n",
        "    holdout_accuracy = accuracy_score(y_holdout, holdout_predictions)\n",
        "\n",
        "    return {\n",
        "        'train_accuracy': train_accuracy,\n",
        "        'holdout_accuracy': holdout_accuracy,\n",
        "        'classification_report': classification_report(y_holdout, holdout_predictions)\n",
        "    }\n",
        "\n",
        "# Evaluation for models using all variables\n",
        "rf_all_eval = evaluate_model(rf_all, X_train, y_train, X_holdout, y_holdout)\n",
        "xgb_all_eval = evaluate_model(xgb_all, X_train, y_train, X_holdout, y_holdout)\n",
        "\n",
        "# Evaluation for models using selected variables\n",
        "rf_selected_eval = evaluate_model(rf_selected, X_train_selected, y_train_selected, X_holdout_selected, y_holdout_selected)\n",
        "xgb_selected_eval = evaluate_model(xgb_selected,  X_train_selected, y_train_selected, X_holdout_selected, y_holdout_selected)\n",
        "\n",
        "# Print results\n",
        "print(\"Random Forest with All Variables:\")\n",
        "print(f\"Train Accuracy: {rf_all_eval['train_accuracy']}\")\n",
        "print(f\"Holdout Accuracy: {rf_all_eval['holdout_accuracy']}\")\n",
        "print(rf_all_eval['classification_report'])\n",
        "\n",
        "print(\"\\nXGBoost with All Variables:\")\n",
        "print(f\"Train Accuracy: {xgb_all_eval['train_accuracy']}\")\n",
        "print(f\"Holdout Accuracy: {xgb_all_eval['holdout_accuracy']}\")\n",
        "print(xgb_all_eval['classification_report'])\n",
        "\n",
        "print(\"\\nRandom Forest with Selected Variables:\")\n",
        "print(f\"Train Accuracy: {rf_selected_eval['train_accuracy']}\")\n",
        "print(f\"Holdout Accuracy: {rf_selected_eval['holdout_accuracy']}\")\n",
        "print(rf_selected_eval['classification_report'])\n",
        "\n",
        "print(\"\\nXGBoost with Selected Variables:\")\n",
        "print(f\"Train Accuracy: {xgb_selected_eval['train_accuracy']}\")\n",
        "print(f\"Holdout Accuracy: {xgb_selected_eval['holdout_accuracy']}\")\n",
        "print(xgb_selected_eval['classification_report'])\n",
        "\n",
        "# Measure overfitting"
      ],
      "metadata": {
        "colab": {
          "base_uri": "https://localhost:8080/"
        },
        "id": "vf2jaS5MPVSU",
        "outputId": "ced928b3-a1e5-4a0d-9204-39e704e99d0c"
      },
      "execution_count": null,
      "outputs": [
        {
          "output_type": "stream",
          "name": "stdout",
          "text": [
            "Random Forest with All Variables:\n",
            "Train Accuracy: 0.9999470579403109\n",
            "Holdout Accuracy: 0.9828224862958296\n",
            "              precision    recall  f1-score   support\n",
            "\n",
            "           0       0.98      1.00      0.99    283486\n",
            "           1       0.01      0.00      0.00      4565\n",
            "\n",
            "    accuracy                           0.98    288051\n",
            "   macro avg       0.50      0.50      0.50    288051\n",
            "weighted avg       0.97      0.98      0.98    288051\n",
            "\n",
            "\n",
            "XGBoost with All Variables:\n",
            "Train Accuracy: 0.9843603948262589\n",
            "Holdout Accuracy: 0.9841312823076469\n",
            "              precision    recall  f1-score   support\n",
            "\n",
            "           0       0.98      1.00      0.99    283486\n",
            "           1       0.36      0.00      0.00      4565\n",
            "\n",
            "    accuracy                           0.98    288051\n",
            "   macro avg       0.67      0.50      0.50    288051\n",
            "weighted avg       0.97      0.98      0.98    288051\n",
            "\n",
            "\n",
            "Random Forest with Selected Variables:\n",
            "Train Accuracy: 0.9843499799948446\n",
            "Holdout Accuracy: 0.9841278107001885\n",
            "              precision    recall  f1-score   support\n",
            "\n",
            "           0       0.98      1.00      0.99    283486\n",
            "           1       0.32      0.00      0.00      4565\n",
            "\n",
            "    accuracy                           0.98    288051\n",
            "   macro avg       0.65      0.50      0.50    288051\n",
            "weighted avg       0.97      0.98      0.98    288051\n",
            "\n",
            "\n",
            "XGBoost with Selected Variables:\n",
            "Train Accuracy: 0.9843230750136912\n",
            "Holdout Accuracy: 0.9841382255225637\n",
            "              precision    recall  f1-score   support\n",
            "\n",
            "           0       0.98      1.00      0.99    283486\n",
            "           1       0.36      0.00      0.00      4565\n",
            "\n",
            "    accuracy                           0.98    288051\n",
            "   macro avg       0.67      0.50      0.50    288051\n",
            "weighted avg       0.97      0.98      0.98    288051\n",
            "\n"
          ]
        }
      ]
    },
    {
      "cell_type": "code",
      "source": [
        "def measure_overfitting(train_accuracy, holdout_accuracy):\n",
        "    return train_accuracy - holdout_accuracy\n",
        "\n",
        "rf_all_overfit = measure_overfitting(rf_all_eval['train_accuracy'], rf_all_eval['holdout_accuracy'])\n",
        "xgb_all_overfit = measure_overfitting(xgb_all_eval['train_accuracy'], xgb_all_eval['holdout_accuracy'])\n",
        "\n",
        "rf_selected_overfit = measure_overfitting(rf_selected_eval['train_accuracy'], rf_selected_eval['holdout_accuracy'])\n",
        "xgb_selected_overfit = measure_overfitting(xgb_selected_eval['train_accuracy'], xgb_selected_eval['holdout_accuracy'])\n",
        "\n",
        "print(\"\\nOverfitting Measure (Train - Holdout Accuracy):\")\n",
        "print(f\"Random Forest with All Variables: {rf_all_overfit}\")\n",
        "print(f\"XGBoost with All Variables: {xgb_all_overfit}\")\n",
        "print(f\"Random Forest with Selected Variables: {rf_selected_overfit}\")\n",
        "print(f\"XGBoost with Selected Variables: {xgb_selected_overfit}\")"
      ],
      "metadata": {
        "id": "y8boiZtIU_WP",
        "outputId": "fb7e7a92-489f-47ce-dd6d-1416679040cb",
        "colab": {
          "base_uri": "https://localhost:8080/"
        }
      },
      "execution_count": null,
      "outputs": [
        {
          "output_type": "stream",
          "name": "stdout",
          "text": [
            "\n",
            "Overfitting Measure (Train - Holdout Accuracy):\n",
            "Random Forest with All Variables: 0.017124571644481335\n",
            "XGBoost with All Variables: 0.00022911251861201798\n",
            "Random Forest with Selected Variables: 0.00022216929465612711\n",
            "XGBoost with Selected Variables: 0.00018484949112751448\n"
          ]
        }
      ]
    }
  ]
}